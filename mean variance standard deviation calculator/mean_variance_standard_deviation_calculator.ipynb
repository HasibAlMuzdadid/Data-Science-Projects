{
  "nbformat": 4,
  "nbformat_minor": 0,
  "metadata": {
    "colab": {
      "name": "mean variance standard deviation calculator.ipynb",
      "provenance": [],
      "collapsed_sections": [],
      "authorship_tag": "ABX9TyM/rb9wbPm3EIF4ZrwQNG/o",
      "include_colab_link": true
    },
    "kernelspec": {
      "name": "python3",
      "display_name": "Python 3"
    },
    "language_info": {
      "name": "python"
    }
  },
  "cells": [
    {
      "cell_type": "markdown",
      "metadata": {
        "id": "view-in-github",
        "colab_type": "text"
      },
      "source": [
        "<a href=\"https://colab.research.google.com/github/HasibAlMuzdadid/Data-Science-Projects/blob/main/mean%20variance%20standard%20deviation%20calculator/mean_variance_standard_deviation_calculator.ipynb\" target=\"_parent\"><img src=\"https://colab.research.google.com/assets/colab-badge.svg\" alt=\"Open In Colab\"/></a>"
      ]
    },
    {
      "cell_type": "markdown",
      "source": [
        "**Mean Variance Standard Deviation calculator**"
      ],
      "metadata": {
        "id": "EvcY2MXn9O_v"
      }
    },
    {
      "cell_type": "markdown",
      "source": [
        "Create a function named calculate() that uses Numpy to output the mean, variance, standard deviation, max, min, and sum of the rows, columns, and elements in a 3 x 3 matrix.\n",
        "\n",
        "The input of the function should be a list containing 9 digits. The function should convert the list into a 3 x 3 Numpy array, and then return a dictionary containing the mean, variance, standard deviation, max, min, and sum along both axes and for the flattened matrix.\n",
        "\n",
        "\n",
        "If a list containing less than 9 elements is passed into the function, it should raise a ValueError exception with the message: \"List must contain nine numbers.\" The values in the returned dictionary should be lists and not Numpy arrays."
      ],
      "metadata": {
        "id": "MOn-568FvJQJ"
      }
    },
    {
      "cell_type": "code",
      "execution_count": null,
      "metadata": {
        "id": "_1YzuC5TlhYT"
      },
      "outputs": [],
      "source": [
        "import pandas as pd\n",
        "import numpy as np"
      ]
    },
    {
      "cell_type": "code",
      "source": [
        "def calculate(input_list):\n",
        "    if len(input_list) != 9:\n",
        "        raise ValueError(\"List must contain nine numbers.\")\n",
        "\n",
        "    flat_matrix = np.array(input_list)\n",
        "    print(f\"One Dimensional : \\n{flat_matrix}\")\n",
        "    \n",
        "    converted_matrix = flat_matrix.reshape((3,3))\n",
        "    print(f\"\\n\\nAfter converting to 3x3 matrix : \\n{converted_matrix}\")\n",
        "    \n",
        "    print(f\"\\n\\n'mean': [{list(np.mean(converted_matrix, axis = 0))},{list(np.mean(converted_matrix, axis = 1))}, {np.mean(flat_matrix)}]\")\n",
        "    print(f\"'variance': [{list(np.var(converted_matrix, axis = 0))},{list(np.var(converted_matrix, axis = 1))}, {np.var(flat_matrix)}]\")\n",
        "    print(f\"'standard deviation': [{list(np.std(converted_matrix, axis = 0))},{list(np.std(converted_matrix, axis = 1))}, {np.std(flat_matrix)}]\")\n",
        "    print(f\"'max': [{list(np.max(converted_matrix, axis = 0))},{list(np.max(converted_matrix, axis = 1))}, {np.max(flat_matrix)}]\")\n",
        "    print(f\"'min': [{list(np.min(converted_matrix, axis = 0))},{list(np.min(converted_matrix, axis = 1))}, {np.min(flat_matrix)}]\")\n",
        "    print(f\"'sum': [{list(np.sum(converted_matrix, axis = 0))},{list(np.sum(converted_matrix, axis = 1))}, {np.sum(flat_matrix)}]\\n\\n\")\n",
        "\n",
        "\n",
        "    print(\"By using Dictionary:\")\n",
        "    calculations = {\n",
        "        'mean': [list(np.mean(converted_matrix, axis = 0)),list(np.mean(converted_matrix, axis = 1)), np.mean(flat_matrix)],\n",
        "        'variance': [list(np.var(converted_matrix, axis = 0)),list(np.var(converted_matrix, axis = 1)), np.var(flat_matrix)],\n",
        "        'standard deviation': [list(np.std(converted_matrix, axis = 0)),list(np.std(converted_matrix, axis = 1)), np.std(flat_matrix)],\n",
        "        'max': [list(np.max(converted_matrix, axis = 0)),list(np.max(converted_matrix, axis = 1)), np.max(flat_matrix)],\n",
        "        'min': [list(np.min(converted_matrix, axis = 0)),list(np.min(converted_matrix, axis = 1)), np.min(flat_matrix)],\n",
        "        'sum': [list(np.sum(converted_matrix, axis = 0)),list(np.sum(converted_matrix, axis = 1)), np.sum(flat_matrix)]\n",
        "    }\n",
        "\n",
        "    return (calculations)"
      ],
      "metadata": {
        "id": "VoLcfyD4lohD"
      },
      "execution_count": null,
      "outputs": []
    },
    {
      "cell_type": "code",
      "source": [
        "print(calculate([0,1,2,3,4,5,6,7,8]))"
      ],
      "metadata": {
        "colab": {
          "base_uri": "https://localhost:8080/"
        },
        "id": "964VK8m1mpKk",
        "outputId": "998f50d8-99ec-431a-d063-8bfae78d2ba7"
      },
      "execution_count": null,
      "outputs": [
        {
          "output_type": "stream",
          "name": "stdout",
          "text": [
            "One Dimensional : \n",
            "[0 1 2 3 4 5 6 7 8]\n",
            "\n",
            "\n",
            "After converting to 3x3 matrix : \n",
            "[[0 1 2]\n",
            " [3 4 5]\n",
            " [6 7 8]]\n",
            "\n",
            "\n",
            "'mean': [[3.0, 4.0, 5.0],[1.0, 4.0, 7.0], 4.0]\n",
            "'variance': [[6.0, 6.0, 6.0],[0.6666666666666666, 0.6666666666666666, 0.6666666666666666], 6.666666666666667]\n",
            "'standard deviation': [[2.449489742783178, 2.449489742783178, 2.449489742783178],[0.816496580927726, 0.816496580927726, 0.816496580927726], 2.581988897471611]\n",
            "'max': [[6, 7, 8],[2, 5, 8], 8]\n",
            "'min': [[0, 1, 2],[0, 3, 6], 0]\n",
            "'sum': [[9, 12, 15],[3, 12, 21], 36]\n",
            "\n",
            "\n",
            "By using Dictionary:\n",
            "{'mean': [[3.0, 4.0, 5.0], [1.0, 4.0, 7.0], 4.0], 'variance': [[6.0, 6.0, 6.0], [0.6666666666666666, 0.6666666666666666, 0.6666666666666666], 6.666666666666667], 'standard deviation': [[2.449489742783178, 2.449489742783178, 2.449489742783178], [0.816496580927726, 0.816496580927726, 0.816496580927726], 2.581988897471611], 'max': [[6, 7, 8], [2, 5, 8], 8], 'min': [[0, 1, 2], [0, 3, 6], 0], 'sum': [[9, 12, 15], [3, 12, 21], 36]}\n"
          ]
        }
      ]
    },
    {
      "cell_type": "code",
      "source": [
        "print(calculate([0,1,2,3,4,5,6,7,10]))"
      ],
      "metadata": {
        "colab": {
          "base_uri": "https://localhost:8080/"
        },
        "id": "7NT8pDjtujpP",
        "outputId": "4820f66d-6c7f-4f55-8fb3-56a89eaa74a0"
      },
      "execution_count": null,
      "outputs": [
        {
          "output_type": "stream",
          "name": "stdout",
          "text": [
            "One Dimensional : \n",
            "[ 0  1  2  3  4  5  6  7 10]\n",
            "\n",
            "\n",
            "After converting to 3x3 matrix : \n",
            "[[ 0  1  2]\n",
            " [ 3  4  5]\n",
            " [ 6  7 10]]\n",
            "\n",
            "\n",
            "'mean': [[3.0, 4.0, 5.666666666666667],[1.0, 4.0, 7.666666666666667], 4.222222222222222]\n",
            "'variance': [[6.0, 6.0, 10.888888888888888],[0.6666666666666666, 0.6666666666666666, 2.888888888888889], 8.839506172839508]\n",
            "'standard deviation': [[2.449489742783178, 2.449489742783178, 3.2998316455372216],[0.816496580927726, 0.816496580927726, 1.699673171197595], 2.973130702279923]\n",
            "'max': [[6, 7, 10],[2, 5, 10], 10]\n",
            "'min': [[0, 1, 2],[0, 3, 6], 0]\n",
            "'sum': [[9, 12, 17],[3, 12, 23], 38]\n",
            "\n",
            "\n",
            "By using Dictionary:\n",
            "{'mean': [[3.0, 4.0, 5.666666666666667], [1.0, 4.0, 7.666666666666667], 4.222222222222222], 'variance': [[6.0, 6.0, 10.888888888888888], [0.6666666666666666, 0.6666666666666666, 2.888888888888889], 8.839506172839508], 'standard deviation': [[2.449489742783178, 2.449489742783178, 3.2998316455372216], [0.816496580927726, 0.816496580927726, 1.699673171197595], 2.973130702279923], 'max': [[6, 7, 10], [2, 5, 10], 10], 'min': [[0, 1, 2], [0, 3, 6], 0], 'sum': [[9, 12, 17], [3, 12, 23], 38]}\n"
          ]
        }
      ]
    }
  ]
}